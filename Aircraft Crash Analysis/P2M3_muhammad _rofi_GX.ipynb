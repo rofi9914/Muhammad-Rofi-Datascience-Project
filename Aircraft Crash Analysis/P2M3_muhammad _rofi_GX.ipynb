{
 "cells": [
  {
   "cell_type": "markdown",
   "metadata": {},
   "source": [
    "'''\n",
    "\n",
    "**=======================================================================================================**\n",
    "\n",
    "**MILESTONE 3**\n",
    "\n",
    "*NAME*  : Muhammad Rofi Seno Aji\n",
    "\n",
    "*BATCH* : HCK-008\n",
    "\n",
    "**This program was created to conduct great expectation method from the dataset that already been cleaned.**\n",
    "\n",
    "**=======================================================================================================**\n",
    "\n",
    "'''"
   ]
  },
  {
   "cell_type": "markdown",
   "metadata": {},
   "source": [
    "# ***INSTANTIATE DATA CONTEXT***"
   ]
  },
  {
   "cell_type": "code",
   "execution_count": 1,
   "metadata": {},
   "outputs": [],
   "source": [
    "# Create a data context\n",
    "from great_expectations.data_context import FileDataContext\n",
    "context = FileDataContext.create(project_root_dir='./')"
   ]
  },
  {
   "cell_type": "markdown",
   "metadata": {},
   "source": [
    "# ***CONNECT TO A DATASOURCE***"
   ]
  },
  {
   "cell_type": "code",
   "execution_count": 5,
   "metadata": {},
   "outputs": [],
   "source": [
    "# Give a name to a Datasource. This name must be unique between Datasources.\n",
    "datasource_name = 'data_m3_fix'\n",
    "datasource = context.sources.add_pandas(datasource_name)\n",
    "\n",
    "# Give a name to a data asset\n",
    "asset_name = 'birdstrikes_fix'\n",
    "path_to_data = 'D:\\\\Hacktiv8\\\\Phase2\\\\Milestone\\\\coba_coba\\\\P2M3_muhammad_rofi_data_clean.csv'\n",
    "asset = datasource.add_csv_asset(asset_name, filepath_or_buffer=path_to_data)\n",
    "\n",
    "# Build batch request\n",
    "batch_request = asset.build_batch_request()"
   ]
  },
  {
   "cell_type": "markdown",
   "metadata": {},
   "source": [
    "# ***CREATE AN EXPECTATION SUITE***"
   ]
  },
  {
   "cell_type": "code",
   "execution_count": 6,
   "metadata": {},
   "outputs": [
    {
     "data": {
      "application/vnd.jupyter.widget-view+json": {
       "model_id": "773f8dde6ee642c0a432cf582e86fa17",
       "version_major": 2,
       "version_minor": 0
      },
      "text/plain": [
       "Calculating Metrics:   0%|          | 0/1 [00:00<?, ?it/s]"
      ]
     },
     "metadata": {},
     "output_type": "display_data"
    },
    {
     "data": {
      "text/html": [
       "<div>\n",
       "<style scoped>\n",
       "    .dataframe tbody tr th:only-of-type {\n",
       "        vertical-align: middle;\n",
       "    }\n",
       "\n",
       "    .dataframe tbody tr th {\n",
       "        vertical-align: top;\n",
       "    }\n",
       "\n",
       "    .dataframe thead th {\n",
       "        text-align: right;\n",
       "    }\n",
       "</style>\n",
       "<table border=\"1\" class=\"dataframe\">\n",
       "  <thead>\n",
       "    <tr style=\"text-align: right;\">\n",
       "      <th></th>\n",
       "      <th>record_id</th>\n",
       "      <th>aircraft_type</th>\n",
       "      <th>airport_name</th>\n",
       "      <th>altitude_bin</th>\n",
       "      <th>aircraft_make_model</th>\n",
       "      <th>wildlife_number_struck</th>\n",
       "      <th>wildlife_number_struck_actual</th>\n",
       "      <th>flightdate</th>\n",
       "      <th>effect_indicated_damage</th>\n",
       "      <th>aircraft_number_of_engines</th>\n",
       "      <th>...</th>\n",
       "      <th>remains_of_wildlife_collected</th>\n",
       "      <th>remains_of_wildlife_sent_to_smithsonian</th>\n",
       "      <th>wildlife_size</th>\n",
       "      <th>conditions_sky</th>\n",
       "      <th>wildlife_species</th>\n",
       "      <th>pilot_warned_of_birds_or_wildlife</th>\n",
       "      <th>cost_total</th>\n",
       "      <th>feet_above_ground</th>\n",
       "      <th>number_of_people_injured</th>\n",
       "      <th>is_aircraft_large</th>\n",
       "    </tr>\n",
       "  </thead>\n",
       "  <tbody>\n",
       "    <tr>\n",
       "      <th>0</th>\n",
       "      <td>202152</td>\n",
       "      <td>Airplane</td>\n",
       "      <td>LAGUARDIA NY</td>\n",
       "      <td>&gt; 1000 ft</td>\n",
       "      <td>B-737-400</td>\n",
       "      <td>Over 100</td>\n",
       "      <td>859</td>\n",
       "      <td>2000-11-23T00:00:00</td>\n",
       "      <td>Caused damage</td>\n",
       "      <td>2</td>\n",
       "      <td>...</td>\n",
       "      <td>False</td>\n",
       "      <td>False</td>\n",
       "      <td>Medium</td>\n",
       "      <td>No Cloud</td>\n",
       "      <td>Unknown bird - medium</td>\n",
       "      <td>False</td>\n",
       "      <td>30736</td>\n",
       "      <td>1500.0</td>\n",
       "      <td>0</td>\n",
       "      <td>True</td>\n",
       "    </tr>\n",
       "    <tr>\n",
       "      <th>1</th>\n",
       "      <td>208159</td>\n",
       "      <td>Airplane</td>\n",
       "      <td>DALLAS/FORT WORTH INTL ARPT</td>\n",
       "      <td>&lt; 1000 ft</td>\n",
       "      <td>MD-80</td>\n",
       "      <td>Over 100</td>\n",
       "      <td>424</td>\n",
       "      <td>2001-07-25T00:00:00</td>\n",
       "      <td>Caused damage</td>\n",
       "      <td>2</td>\n",
       "      <td>...</td>\n",
       "      <td>False</td>\n",
       "      <td>False</td>\n",
       "      <td>Small</td>\n",
       "      <td>Some Cloud</td>\n",
       "      <td>Rock pigeon</td>\n",
       "      <td>True</td>\n",
       "      <td>0</td>\n",
       "      <td>0.0</td>\n",
       "      <td>0</td>\n",
       "      <td>False</td>\n",
       "    </tr>\n",
       "    <tr>\n",
       "      <th>2</th>\n",
       "      <td>207601</td>\n",
       "      <td>Airplane</td>\n",
       "      <td>LAKEFRONT AIRPORT</td>\n",
       "      <td>&lt; 1000 ft</td>\n",
       "      <td>C-500</td>\n",
       "      <td>Over 100</td>\n",
       "      <td>261</td>\n",
       "      <td>2001-09-14T00:00:00</td>\n",
       "      <td>No damage</td>\n",
       "      <td>2</td>\n",
       "      <td>...</td>\n",
       "      <td>False</td>\n",
       "      <td>False</td>\n",
       "      <td>Small</td>\n",
       "      <td>No Cloud</td>\n",
       "      <td>European starling</td>\n",
       "      <td>False</td>\n",
       "      <td>0</td>\n",
       "      <td>50.0</td>\n",
       "      <td>0</td>\n",
       "      <td>False</td>\n",
       "    </tr>\n",
       "    <tr>\n",
       "      <th>3</th>\n",
       "      <td>215953</td>\n",
       "      <td>Airplane</td>\n",
       "      <td>SEATTLE-TACOMA INTL</td>\n",
       "      <td>&lt; 1000 ft</td>\n",
       "      <td>B-737-400</td>\n",
       "      <td>Over 100</td>\n",
       "      <td>806</td>\n",
       "      <td>2002-09-05T00:00:00</td>\n",
       "      <td>No damage</td>\n",
       "      <td>2</td>\n",
       "      <td>...</td>\n",
       "      <td>True</td>\n",
       "      <td>False</td>\n",
       "      <td>Small</td>\n",
       "      <td>Some Cloud</td>\n",
       "      <td>European starling</td>\n",
       "      <td>True</td>\n",
       "      <td>0</td>\n",
       "      <td>50.0</td>\n",
       "      <td>0</td>\n",
       "      <td>True</td>\n",
       "    </tr>\n",
       "    <tr>\n",
       "      <th>4</th>\n",
       "      <td>219878</td>\n",
       "      <td>Airplane</td>\n",
       "      <td>NORFOLK INTL</td>\n",
       "      <td>&lt; 1000 ft</td>\n",
       "      <td>CL-RJ100/200</td>\n",
       "      <td>Over 100</td>\n",
       "      <td>942</td>\n",
       "      <td>2003-06-23T00:00:00</td>\n",
       "      <td>No damage</td>\n",
       "      <td>2</td>\n",
       "      <td>...</td>\n",
       "      <td>False</td>\n",
       "      <td>False</td>\n",
       "      <td>Small</td>\n",
       "      <td>No Cloud</td>\n",
       "      <td>European starling</td>\n",
       "      <td>False</td>\n",
       "      <td>0</td>\n",
       "      <td>50.0</td>\n",
       "      <td>0</td>\n",
       "      <td>False</td>\n",
       "    </tr>\n",
       "  </tbody>\n",
       "</table>\n",
       "<p>5 rows × 23 columns</p>\n",
       "</div>"
      ],
      "text/plain": [
       "   record_id aircraft_type                 airport_name altitude_bin  \\\n",
       "0     202152      Airplane                 LAGUARDIA NY    > 1000 ft   \n",
       "1     208159      Airplane  DALLAS/FORT WORTH INTL ARPT    < 1000 ft   \n",
       "2     207601      Airplane            LAKEFRONT AIRPORT    < 1000 ft   \n",
       "3     215953      Airplane          SEATTLE-TACOMA INTL    < 1000 ft   \n",
       "4     219878      Airplane                 NORFOLK INTL    < 1000 ft   \n",
       "\n",
       "  aircraft_make_model wildlife_number_struck  wildlife_number_struck_actual  \\\n",
       "0           B-737-400               Over 100                            859   \n",
       "1               MD-80               Over 100                            424   \n",
       "2               C-500               Over 100                            261   \n",
       "3           B-737-400               Over 100                            806   \n",
       "4        CL-RJ100/200               Over 100                            942   \n",
       "\n",
       "            flightdate effect_indicated_damage aircraft_number_of_engines  \\\n",
       "0  2000-11-23T00:00:00           Caused damage                          2   \n",
       "1  2001-07-25T00:00:00           Caused damage                          2   \n",
       "2  2001-09-14T00:00:00               No damage                          2   \n",
       "3  2002-09-05T00:00:00               No damage                          2   \n",
       "4  2003-06-23T00:00:00               No damage                          2   \n",
       "\n",
       "   ... remains_of_wildlife_collected remains_of_wildlife_sent_to_smithsonian  \\\n",
       "0  ...                         False                                   False   \n",
       "1  ...                         False                                   False   \n",
       "2  ...                         False                                   False   \n",
       "3  ...                          True                                   False   \n",
       "4  ...                         False                                   False   \n",
       "\n",
       "  wildlife_size  conditions_sky       wildlife_species  \\\n",
       "0        Medium        No Cloud  Unknown bird - medium   \n",
       "1         Small      Some Cloud            Rock pigeon   \n",
       "2         Small        No Cloud      European starling   \n",
       "3         Small      Some Cloud      European starling   \n",
       "4         Small        No Cloud      European starling   \n",
       "\n",
       "  pilot_warned_of_birds_or_wildlife cost_total feet_above_ground  \\\n",
       "0                             False      30736            1500.0   \n",
       "1                              True          0               0.0   \n",
       "2                             False          0              50.0   \n",
       "3                              True          0              50.0   \n",
       "4                             False          0              50.0   \n",
       "\n",
       "   number_of_people_injured  is_aircraft_large  \n",
       "0                         0               True  \n",
       "1                         0              False  \n",
       "2                         0              False  \n",
       "3                         0               True  \n",
       "4                         0              False  \n",
       "\n",
       "[5 rows x 23 columns]"
      ]
     },
     "execution_count": 6,
     "metadata": {},
     "output_type": "execute_result"
    }
   ],
   "source": [
    "# Creat an expectation suite\n",
    "expectation_suite_name = 'expectation-data-m3_fix'\n",
    "context.add_or_update_expectation_suite(expectation_suite_name)\n",
    "\n",
    "# Create a validator using above expectation suite\n",
    "validator = context.get_validator(\n",
    "    batch_request = batch_request,\n",
    "    expectation_suite_name = expectation_suite_name\n",
    ")\n",
    "# Check the validator\n",
    "validator.head()"
   ]
  },
  {
   "cell_type": "markdown",
   "metadata": {},
   "source": [
    "# ***VALIDATE DATA***"
   ]
  },
  {
   "cell_type": "markdown",
   "metadata": {},
   "source": [
    "## EXPECTATION 1 : COLUMN FEET ABOVE GROUND CANNOT CONTAIN MISSING VALUE"
   ]
  },
  {
   "cell_type": "code",
   "execution_count": 7,
   "metadata": {},
   "outputs": [
    {
     "data": {
      "application/vnd.jupyter.widget-view+json": {
       "model_id": "8b8a164ee80b4242af548a24dde6807e",
       "version_major": 2,
       "version_minor": 0
      },
      "text/plain": [
       "Calculating Metrics:   0%|          | 0/6 [00:00<?, ?it/s]"
      ]
     },
     "metadata": {},
     "output_type": "display_data"
    },
    {
     "data": {
      "text/plain": [
       "{\n",
       "  \"success\": true,\n",
       "  \"result\": {\n",
       "    \"element_count\": 24747,\n",
       "    \"unexpected_count\": 0,\n",
       "    \"unexpected_percent\": 0.0,\n",
       "    \"partial_unexpected_list\": []\n",
       "  },\n",
       "  \"meta\": {},\n",
       "  \"exception_info\": {\n",
       "    \"raised_exception\": false,\n",
       "    \"exception_traceback\": null,\n",
       "    \"exception_message\": null\n",
       "  }\n",
       "}"
      ]
     },
     "execution_count": 7,
     "metadata": {},
     "output_type": "execute_result"
    }
   ],
   "source": [
    "validator.expect_column_values_to_not_be_null('feet_above_ground')"
   ]
  },
  {
   "cell_type": "markdown",
   "metadata": {},
   "source": [
    "**EXPLANATION :**\n",
    "\n",
    "In the context of analyzing birdstrike incidents in the dataset covering the period between 1999 and 2009, it is imperative that the column 'feet_above_ground,' which represents the altitude of aircraft during these incidents, does not contain missing values. This is essential for several scholarly and practical reasons:\n",
    "\n",
    "1. **Incident Severity Assessment:** 'Feet_above_ground' provides critical information about the altitude of the aircraft at the time of the birdstrike, facilitating an accurate assessment of incident severity.\n",
    "\n",
    "2. **Risk Evaluation:** Accurate data on the altitude of birdstrikes is indispensable for evaluating the risk associated with these incidents. Incomplete data can lead to biased risk assessments and inadequate safety measures.\n",
    "\n",
    "3. **Regulatory Compliance:** The aviation industry is subject to strict regulatory reporting requirements, necessitating comprehensive and accurate data for compliance with authorities such as the Federal Aviation Administration (FAA).\n",
    "\n",
    "4. **Research and Prevention:** Scholars and aviation safety experts rely on complete data to analyze birdstrike incidents systematically, identify patterns, and develop effective prevention strategies.\n",
    "\n",
    "5. **Safety Enhancement:** Understanding the altitude at which birdstrikes occur is fundamental for devising safety improvements, modifying aircraft, developing prevention technologies, and implementing operational changes to reduce the occurrence and impact of birdstrikes."
   ]
  },
  {
   "cell_type": "markdown",
   "metadata": {},
   "source": [
    "## EXPECTATION 2: COLUMN RECORD ID MUST BE UNIQUE"
   ]
  },
  {
   "cell_type": "code",
   "execution_count": 8,
   "metadata": {},
   "outputs": [
    {
     "data": {
      "application/vnd.jupyter.widget-view+json": {
       "model_id": "0aad5355b3cd48af8e73917a18f19501",
       "version_major": 2,
       "version_minor": 0
      },
      "text/plain": [
       "Calculating Metrics:   0%|          | 0/8 [00:00<?, ?it/s]"
      ]
     },
     "metadata": {},
     "output_type": "display_data"
    },
    {
     "data": {
      "text/plain": [
       "{\n",
       "  \"success\": true,\n",
       "  \"result\": {\n",
       "    \"element_count\": 24747,\n",
       "    \"unexpected_count\": 0,\n",
       "    \"unexpected_percent\": 0.0,\n",
       "    \"partial_unexpected_list\": [],\n",
       "    \"missing_count\": 0,\n",
       "    \"missing_percent\": 0.0,\n",
       "    \"unexpected_percent_total\": 0.0,\n",
       "    \"unexpected_percent_nonmissing\": 0.0\n",
       "  },\n",
       "  \"meta\": {},\n",
       "  \"exception_info\": {\n",
       "    \"raised_exception\": false,\n",
       "    \"exception_traceback\": null,\n",
       "    \"exception_message\": null\n",
       "  }\n",
       "}"
      ]
     },
     "execution_count": 8,
     "metadata": {},
     "output_type": "execute_result"
    }
   ],
   "source": [
    "validator.expect_column_values_to_be_unique('record_id')"
   ]
  },
  {
   "cell_type": "markdown",
   "metadata": {},
   "source": [
    "**EXPLANATION:**\n",
    "\n",
    "The uniqueness of the \"record_id\" is of paramount importance for academic and research purposes. This uniqueness serves to maintain data integrity by preventing duplication and ensuring accuracy. It also enhances data retrieval and linking capabilities, simplifies data analysis, and aids in compliance with regulatory standards. In an academic context, a unique identifier like \"record_id\" is crucial for the accurate and rigorous study of birdstrike accidents, enabling comprehensive research, analysis, and reporting."
   ]
  },
  {
   "cell_type": "markdown",
   "metadata": {},
   "source": [
    "## EXPECTATION 3: COLUMN FEET ABOVE GROUND VALUE MUST CAN NOT BE NEGATIVE"
   ]
  },
  {
   "cell_type": "code",
   "execution_count": 10,
   "metadata": {},
   "outputs": [
    {
     "data": {
      "application/vnd.jupyter.widget-view+json": {
       "model_id": "05712ff7214540399be7cbc97e332923",
       "version_major": 2,
       "version_minor": 0
      },
      "text/plain": [
       "Calculating Metrics:   0%|          | 0/8 [00:00<?, ?it/s]"
      ]
     },
     "metadata": {},
     "output_type": "display_data"
    },
    {
     "data": {
      "text/plain": [
       "{\n",
       "  \"success\": true,\n",
       "  \"result\": {\n",
       "    \"element_count\": 24747,\n",
       "    \"unexpected_count\": 0,\n",
       "    \"unexpected_percent\": 0.0,\n",
       "    \"partial_unexpected_list\": [],\n",
       "    \"missing_count\": 0,\n",
       "    \"missing_percent\": 0.0,\n",
       "    \"unexpected_percent_total\": 0.0,\n",
       "    \"unexpected_percent_nonmissing\": 0.0\n",
       "  },\n",
       "  \"meta\": {},\n",
       "  \"exception_info\": {\n",
       "    \"raised_exception\": false,\n",
       "    \"exception_traceback\": null,\n",
       "    \"exception_message\": null\n",
       "  }\n",
       "}"
      ]
     },
     "execution_count": 10,
     "metadata": {},
     "output_type": "execute_result"
    }
   ],
   "source": [
    "validator.expect_column_values_to_be_between(column='feet_above_ground', min_value=0, max_value=40000)"
   ]
  },
  {
   "cell_type": "markdown",
   "metadata": {},
   "source": [
    "**EXPLANATION:**\n",
    "\n",
    "The imposition of altitude constraints within the 'feet_above_ground' column wherein the permissible range is confined to altitudes between 0 and 45,000 feet, is underpinned by several salient considerations.\n",
    "\n",
    "1. **Environmental Realism:** Birdstrike incidents, as recorded in this dataset, transpire predominantly within the lower atmospheric strata. Altitudes below 0 feet, signifying ground level, are evidently non-viable within the confines of the dataset's scope. Conversely, altitudes substantially surpassing 45,000 feet venture into the stratospheric region, an environment where the likelihood of bird-related aviation incidents is exceedingly remote.\n",
    "\n",
    "2. **Aircraft Operational Regime:** The dataset principally encompasses data related to commercial aviation, a domain where aircraft predominantly operate within altitudes ranging from surface level (0 feet) to approximately 45,000 feet. This range encapsulates the entirety of an aircraft's operational envelope, including takeoff, landing, and cruising phases. Incidents involving birdstrikes are more prevalent within this aviation operating envelope."
   ]
  },
  {
   "cell_type": "markdown",
   "metadata": {},
   "source": [
    "## EXPECTATION 4: COLUMN NUMBER OF PEOPLE INJURED MUST BE FLOAT OR INTEGER"
   ]
  },
  {
   "cell_type": "code",
   "execution_count": 12,
   "metadata": {},
   "outputs": [
    {
     "data": {
      "application/vnd.jupyter.widget-view+json": {
       "model_id": "50830e1326a0419f845e6cbd013b6ef9",
       "version_major": 2,
       "version_minor": 0
      },
      "text/plain": [
       "Calculating Metrics:   0%|          | 0/1 [00:00<?, ?it/s]"
      ]
     },
     "metadata": {},
     "output_type": "display_data"
    },
    {
     "data": {
      "text/plain": [
       "{\n",
       "  \"success\": true,\n",
       "  \"result\": {\n",
       "    \"observed_value\": \"int64\"\n",
       "  },\n",
       "  \"meta\": {},\n",
       "  \"exception_info\": {\n",
       "    \"raised_exception\": false,\n",
       "    \"exception_traceback\": null,\n",
       "    \"exception_message\": null\n",
       "  }\n",
       "}"
      ]
     },
     "execution_count": 12,
     "metadata": {},
     "output_type": "execute_result"
    }
   ],
   "source": [
    "validator.expect_column_values_to_be_in_type_list('number_of_people_injured', ['int64', 'float64'])"
   ]
  },
  {
   "cell_type": "markdown",
   "metadata": {},
   "source": [
    "**EXPLANATION :**\n",
    "\n",
    "The column 'number_of_people_injured' typically be represented as an integer or a float due to the following academic and practical considerations:\n",
    "\n",
    "1. **Data Integrity**: In an academic and practical context, data integrity is crucial. The number of people injured in birdstrike incidents is a discrete and countable value. It cannot be a fraction, as you cannot have a fractional person injured. Therefore, it should be represented as an integer to accurately reflect the nature of the data.\n",
    "\n",
    "2. **Compatibility**: Many data analysis and visualization tools expect numerical data to be of type integer or float. Representing the number of people injured as an integer or float ensures compatibility with these tools, making it easier to conduct academic research and practical analysis on the dataset."
   ]
  },
  {
   "cell_type": "markdown",
   "metadata": {},
   "source": [
    "## EXPECTATION 5: COLUMN ALTITUDE BIN VALUE MUST BE > 1000 or < 1000"
   ]
  },
  {
   "cell_type": "code",
   "execution_count": 13,
   "metadata": {},
   "outputs": [
    {
     "data": {
      "application/vnd.jupyter.widget-view+json": {
       "model_id": "4e969d25edd04e7d80f85f2064146dae",
       "version_major": 2,
       "version_minor": 0
      },
      "text/plain": [
       "Calculating Metrics:   0%|          | 0/8 [00:00<?, ?it/s]"
      ]
     },
     "metadata": {},
     "output_type": "display_data"
    },
    {
     "data": {
      "text/plain": [
       "{\n",
       "  \"success\": true,\n",
       "  \"result\": {\n",
       "    \"element_count\": 24747,\n",
       "    \"unexpected_count\": 0,\n",
       "    \"unexpected_percent\": 0.0,\n",
       "    \"partial_unexpected_list\": [],\n",
       "    \"missing_count\": 0,\n",
       "    \"missing_percent\": 0.0,\n",
       "    \"unexpected_percent_total\": 0.0,\n",
       "    \"unexpected_percent_nonmissing\": 0.0\n",
       "  },\n",
       "  \"meta\": {},\n",
       "  \"exception_info\": {\n",
       "    \"raised_exception\": false,\n",
       "    \"exception_traceback\": null,\n",
       "    \"exception_message\": null\n",
       "  }\n",
       "}"
      ]
     },
     "execution_count": 13,
     "metadata": {},
     "output_type": "execute_result"
    }
   ],
   "source": [
    "validator.expect_column_values_to_be_in_set(\"altitude_bin\", ['> 1000 ft', '< 1000 ft'])"
   ]
  },
  {
   "cell_type": "markdown",
   "metadata": {},
   "source": [
    "**EXPLANATION :**\n",
    "\n",
    "The primary objective of categorizing the 'altitude bin' column with discrete altitude values denoting altitudes as falling either below 1000 feet or exceeding 1000 feet is as follows:\n",
    "\n",
    "1. **Regulatory Relevance**: Many aviation regulations and safety guidelines are formulated based on specific altitude thresholds. By categorizing altitudes into '< 1000ft' and '> 1000ft', the dataset becomes more relevant to regulatory assessments and compliance.\n",
    "\n",
    "2. **Comparative Analysis**: This categorization facilitates comparative analysis between birdstrikes that occur at lower altitudes (e.g., during takeoff and landing) and those that occur at higher altitudes (e.g., during cruising). Such comparisons are academically valuable in understanding birdstrike patterns.\n",
    "\n",
    "3. **Simplicity and Interpretability**: The binary categorization is straightforward and enhances the interpretability of the data. Researchers, policymakers, and aviation professionals can easily grasp the altitude-related patterns in birdstrike incidents."
   ]
  },
  {
   "cell_type": "markdown",
   "metadata": {},
   "source": [
    " ## EXPECTATION 6: COLUMN RECORD IN MUST HAVE VALUE LENGTH 6"
   ]
  },
  {
   "cell_type": "code",
   "execution_count": 14,
   "metadata": {},
   "outputs": [
    {
     "data": {
      "application/vnd.jupyter.widget-view+json": {
       "model_id": "f0b2972d02594da79d2bd5f6d4ba2e61",
       "version_major": 2,
       "version_minor": 0
      },
      "text/plain": [
       "Calculating Metrics:   0%|          | 0/9 [00:00<?, ?it/s]"
      ]
     },
     "metadata": {},
     "output_type": "display_data"
    },
    {
     "data": {
      "text/plain": [
       "{\n",
       "  \"success\": true,\n",
       "  \"result\": {\n",
       "    \"element_count\": 24747,\n",
       "    \"unexpected_count\": 0,\n",
       "    \"unexpected_percent\": 0.0,\n",
       "    \"partial_unexpected_list\": [],\n",
       "    \"missing_count\": 0,\n",
       "    \"missing_percent\": 0.0,\n",
       "    \"unexpected_percent_total\": 0.0,\n",
       "    \"unexpected_percent_nonmissing\": 0.0\n",
       "  },\n",
       "  \"meta\": {},\n",
       "  \"exception_info\": {\n",
       "    \"raised_exception\": false,\n",
       "    \"exception_traceback\": null,\n",
       "    \"exception_message\": null\n",
       "  }\n",
       "}"
      ]
     },
     "execution_count": 14,
     "metadata": {},
     "output_type": "execute_result"
    }
   ],
   "source": [
    "validator.expect_column_value_lengths_to_equal(\"record_id\", 6)"
   ]
  },
  {
   "cell_type": "markdown",
   "metadata": {},
   "source": [
    "**EXPLANATION:**\n",
    "\n",
    "The record ID column is required to contain six characters, in compliance with National Transportation Safety Board regulations, which mandate that birdstrike incident categories must be documented with a six-character ID."
   ]
  },
  {
   "cell_type": "markdown",
   "metadata": {},
   "source": [
    " ## EXPECTATION 7: COLUMN AIRCRAFT TYPE MUST ONLY HAVE VALUE AIRCRAFT"
   ]
  },
  {
   "cell_type": "code",
   "execution_count": 16,
   "metadata": {},
   "outputs": [
    {
     "data": {
      "application/vnd.jupyter.widget-view+json": {
       "model_id": "56c5d7df7dab45499e968ada087cabc3",
       "version_major": 2,
       "version_minor": 0
      },
      "text/plain": [
       "Calculating Metrics:   0%|          | 0/8 [00:00<?, ?it/s]"
      ]
     },
     "metadata": {},
     "output_type": "display_data"
    },
    {
     "data": {
      "text/plain": [
       "{\n",
       "  \"success\": true,\n",
       "  \"result\": {\n",
       "    \"element_count\": 24747,\n",
       "    \"unexpected_count\": 0,\n",
       "    \"unexpected_percent\": 0.0,\n",
       "    \"partial_unexpected_list\": [],\n",
       "    \"missing_count\": 0,\n",
       "    \"missing_percent\": 0.0,\n",
       "    \"unexpected_percent_total\": 0.0,\n",
       "    \"unexpected_percent_nonmissing\": 0.0\n",
       "  },\n",
       "  \"meta\": {},\n",
       "  \"exception_info\": {\n",
       "    \"raised_exception\": false,\n",
       "    \"exception_traceback\": null,\n",
       "    \"exception_message\": null\n",
       "  }\n",
       "}"
      ]
     },
     "execution_count": 16,
     "metadata": {},
     "output_type": "execute_result"
    }
   ],
   "source": [
    "validator.expect_column_values_to_not_be_in_set('aircraft_type', [\"Helicopter\", \"Drone\"])"
   ]
  },
  {
   "cell_type": "markdown",
   "metadata": {},
   "source": [
    "**EXPLANATION :**\n",
    "\n",
    "Given that this dataset exclusively pertains to incidents involving birdstrikes on aircraft, it is imperative that the 'aircraft type' column possesses values that are exclusively categorized as 'aircraft.'"
   ]
  },
  {
   "cell_type": "markdown",
   "metadata": {},
   "source": [
    " ## EXPECTATION 8: COLUMN AIRPORT NAME MUST ONLY HAVE VALUE LENGTH MAXIMUM 100"
   ]
  },
  {
   "cell_type": "code",
   "execution_count": 19,
   "metadata": {},
   "outputs": [
    {
     "data": {
      "application/vnd.jupyter.widget-view+json": {
       "model_id": "7d0fafa1299c462e82240bc6f2c45196",
       "version_major": 2,
       "version_minor": 0
      },
      "text/plain": [
       "Calculating Metrics:   0%|          | 0/9 [00:00<?, ?it/s]"
      ]
     },
     "metadata": {},
     "output_type": "display_data"
    },
    {
     "data": {
      "text/plain": [
       "{\n",
       "  \"success\": true,\n",
       "  \"result\": {\n",
       "    \"element_count\": 24747,\n",
       "    \"unexpected_count\": 0,\n",
       "    \"unexpected_percent\": 0.0,\n",
       "    \"partial_unexpected_list\": [],\n",
       "    \"missing_count\": 0,\n",
       "    \"missing_percent\": 0.0,\n",
       "    \"unexpected_percent_total\": 0.0,\n",
       "    \"unexpected_percent_nonmissing\": 0.0\n",
       "  },\n",
       "  \"meta\": {},\n",
       "  \"exception_info\": {\n",
       "    \"raised_exception\": false,\n",
       "    \"exception_traceback\": null,\n",
       "    \"exception_message\": null\n",
       "  }\n",
       "}"
      ]
     },
     "execution_count": 19,
     "metadata": {},
     "output_type": "execute_result"
    }
   ],
   "source": [
    "validator.expect_column_value_lengths_to_be_between('airport_name', min_value=1, max_value=100)"
   ]
  },
  {
   "cell_type": "markdown",
   "metadata": {},
   "source": [
    "**EXPLANATION :**\n",
    "\n",
    "Column 'airport_name,' which presumably contains information about the location where these incidents occurred, should have a maximum value length of 100 characters for several important reasons.\n",
    "\n",
    "1. **Storage Efficiency:** A fixed maximum length for the 'airport_name' field optimizes data storage. When working with large datasets, efficient storage is critical. If the 'airport_name' field has an unrestricted length, it could lead to excessive storage requirements, which can increase costs and reduce query performance.\n",
    "\n",
    "2. **Data Quality Control:** Imposing a character limit encourages data quality control. Longer entries may be prone to typographical errors, inconsistencies, or irrelevant information. By limiting the length to 100 characters, data entry errors are more likely to be detected and corrected, leading to a higher overall data quality.\n",
    "\n",
    "3. **Human Readability:** A 100-character limit strikes a balance between data standardization and human readability. It is sufficiently long to accommodate most airport names and their locations while preventing excessively long or unwieldy entries that can be challenging for users to read and interpret."
   ]
  },
  {
   "cell_type": "code",
   "execution_count": 20,
   "metadata": {},
   "outputs": [],
   "source": [
    "# Save into Expectation Suite\n",
    "validator.save_expectation_suite(discard_failed_expectations=False)"
   ]
  },
  {
   "cell_type": "markdown",
   "metadata": {},
   "source": [
    "# ***CHECKPOINT***"
   ]
  },
  {
   "cell_type": "code",
   "execution_count": 21,
   "metadata": {},
   "outputs": [],
   "source": [
    "# Create a checkpoint\n",
    "\n",
    "checkpoint_1 = context.add_or_update_checkpoint(\n",
    "    name = 'checkpoint_1',\n",
    "    validator = validator,\n",
    ")"
   ]
  },
  {
   "cell_type": "code",
   "execution_count": 22,
   "metadata": {},
   "outputs": [
    {
     "data": {
      "application/vnd.jupyter.widget-view+json": {
       "model_id": "5cf387ef17014a6985a4d66b196236fd",
       "version_major": 2,
       "version_minor": 0
      },
      "text/plain": [
       "Calculating Metrics:   0%|          | 0/48 [00:00<?, ?it/s]"
      ]
     },
     "metadata": {},
     "output_type": "display_data"
    }
   ],
   "source": [
    "# Run a checkpoint\n",
    "\n",
    "checkpoint_result = checkpoint_1.run()"
   ]
  },
  {
   "cell_type": "markdown",
   "metadata": {},
   "source": [
    "# ***DATA DOCS***"
   ]
  },
  {
   "cell_type": "code",
   "execution_count": 23,
   "metadata": {},
   "outputs": [
    {
     "data": {
      "text/plain": [
       "{'local_site': 'file://d:\\\\Hacktiv8\\\\Phase2\\\\Milestone\\\\coba_coba\\\\gx\\\\uncommitted/data_docs/local_site/index.html'}"
      ]
     },
     "execution_count": 23,
     "metadata": {},
     "output_type": "execute_result"
    }
   ],
   "source": [
    "# Build data docs\n",
    "\n",
    "context.build_data_docs()"
   ]
  }
 ],
 "metadata": {
  "kernelspec": {
   "display_name": "base",
   "language": "python",
   "name": "python3"
  },
  "language_info": {
   "codemirror_mode": {
    "name": "ipython",
    "version": 3
   },
   "file_extension": ".py",
   "mimetype": "text/x-python",
   "name": "python",
   "nbconvert_exporter": "python",
   "pygments_lexer": "ipython3",
   "version": "3.11.5"
  }
 },
 "nbformat": 4,
 "nbformat_minor": 2
}
